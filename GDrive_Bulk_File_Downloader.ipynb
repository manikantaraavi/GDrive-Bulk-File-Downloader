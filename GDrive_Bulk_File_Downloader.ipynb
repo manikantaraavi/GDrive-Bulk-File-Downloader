!pip install --upgrade google-api-python-client google-auth-httplib2 google-auth-oauthlib
from google.colab import drive
import requests
import os
import re
import tempfile
import zipfile
from google.colab import auth
from oauth2client.client import GoogleCredentials
from googleapiclient.discovery import build
from googleapiclient.http import MediaIoBaseDownload

drive.mount('/gdrive')

# Replace with your folder ID
folder_id = '1xHOwL-cn_yjSVOZolt69VDCpYSlcszIn'

# Destination path for zip files on your Google Drive
zip_destination_base_path = "/gdrive/MyDrive/Downloaded_Videos"

# Number of files per zip archive
files_per_zip = 15

# Authenticate using Colab's auth flow
auth.authenticate_user()
creds = GoogleCredentials.get_application_default()

# Build the Drive API service
drive_service = build('drive', 'v3', credentials=creds)

def download_file(file_id, destination_path):
    """Downloads a file from Google Drive using its file ID."""
    request = drive_service.files().get_media(fileId=file_id)
    with open(destination_path, "wb") as f:
        downloader = MediaIoBaseDownload(f, request)
        done = False
        while done is False:
            try:
                status, done = downloader.next_chunk()
                print(f"Downloading {destination_path} - {int(status.progress() * 100)}%")
            except KeyboardInterrupt:
                print("Download interrupted by user.")
                return False  # Indicate that the download was interrupted
    return True  # Indicate that the download was successful

def get_file_list(folder_id):
    """Retrieves a list of file IDs within a Google Drive folder."""
    file_ids = []
    page_token = None
    while True:
        response = drive_service.files().list(
            q=f"'{folder_id}' in parents",
            spaces='drive',
            fields='nextPageToken, files(id, name, mimeType)',
            pageToken=page_token
        ).execute()
        for file in response.get('files', []):
            if 'video/' in file['mimeType']:  # Check if it's a video file
                file_ids.append(file.get('id'))
        page_token = response.get('nextPageToken', None)
        if not page_token:
            break
    return file_ids

# Get the list of file IDs in the folder
file_ids = get_file_list(folder_id)

# Process files in batches and create zip archives
for i in range(0, len(file_ids), files_per_zip):
    zip_index = i // files_per_zip + 1
    zip_destination_path = f"{zip_destination_base_path}_{zip_index}.zip"
    print(f"Creating zip archive: {zip_destination_path}")

    with tempfile.TemporaryDirectory() as temp_dir:
        # Download files in the current batch
        for file_id in file_ids[i : i + files_per_zip]:
            print(f"Downloading file with ID: {file_id}")
            if not download_file(file_id, os.path.join(temp_dir, f"{file_id}.mp4")):
                break  # Exit the loop if download was interrupted

        # Create the zip file (only if all downloads were successful or interrupted)
        with zipfile.ZipFile(zip_destination_path, 'w') as zipf:
            for root, _, files in os.walk(temp_dir):
                for file in files:
                    zipf.write(os.path.join(root, file), arcname=file)
                    print(f"Added {file} to {zip_destination_path}")

    print(f"Zip archive created: {zip_destination_path}")
